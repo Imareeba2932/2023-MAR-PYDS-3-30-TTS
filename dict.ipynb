{
 "cells": [
  {
   "cell_type": "code",
   "execution_count": 1,
   "metadata": {},
   "outputs": [
    {
     "name": "stdout",
     "output_type": "stream",
     "text": [
      "{'name': 'John', 'age': 25, 'courses': ['Math', 'CompSci'], 'phone': '555-5555', 'address': '123 Main St', 'city': 'New York'}\n"
     ]
    }
   ],
   "source": [
    "student={'name':'John',\n",
    "         'age':25,\n",
    "         'courses':['Math','CompSci'],\n",
    "         'phone':'555-5555',\n",
    "         'address':'123 Main St',\n",
    "         'city':'New York',}\n",
    "print(student)"
   ]
  },
  {
   "cell_type": "code",
   "execution_count": 2,
   "metadata": {},
   "outputs": [
    {
     "name": "stdout",
     "output_type": "stream",
     "text": [
      "John\n",
      "['Math', 'CompSci']\n"
     ]
    }
   ],
   "source": [
    "# first method to acces dictionary values\n",
    "print(student['name'])\n",
    "print(student['courses'])"
   ]
  },
  {
   "cell_type": "code",
   "execution_count": 3,
   "metadata": {},
   "outputs": [
    {
     "name": "stdout",
     "output_type": "stream",
     "text": [
      "John\n",
      "555-5555\n"
     ]
    }
   ],
   "source": [
    "# second method to acces dictionary values\n",
    "print(student.get('name'))\n",
    "print(student.get('phone'))"
   ]
  },
  {
   "cell_type": "code",
   "execution_count": 5,
   "metadata": {},
   "outputs": [
    {
     "name": "stdout",
     "output_type": "stream",
     "text": [
      "{'name': 'John', 'age': 25, 'courses': ['Math', 'CompSci'], 'phone': '555-5555', 'address': '123 Main St', 'city': 'New York', 'school': 'MIT'}\n"
     ]
    }
   ],
   "source": [
    "# to add a new key value pair\n",
    "student['school']='MIT'\n",
    "print(student)\n"
   ]
  },
  {
   "cell_type": "code",
   "execution_count": 6,
   "metadata": {},
   "outputs": [
    {
     "name": "stdout",
     "output_type": "stream",
     "text": [
      "{'name': 'Radhe Krishna', 'male lead': 'Sumedh Mudgalkar', 'female lead': 'Malika Singh', 'total season': 2, 'rating': 4.5, 'ott': 'hotstar'}\n"
     ]
    }
   ],
   "source": [
    "show={'name':'Radhe Krishna',\n",
    "      'male lead':'Sumedh Mudgalkar',\n",
    "      'female lead':'Malika Singh',\n",
    "      'total season':2,\n",
    "      'rating':4.5,\n",
    "      'ott':'hotstar'}\n",
    "print(show)"
   ]
  },
  {
   "cell_type": "code",
   "execution_count": 12,
   "metadata": {},
   "outputs": [
    {
     "name": "stdout",
     "output_type": "stream",
     "text": [
      "name\n",
      "male lead\n",
      "female lead\n",
      "total season\n",
      "rating\n",
      "ott\n"
     ]
    }
   ],
   "source": [
    "# to  print key using loop\n",
    "for key in show.keys():\n",
    "    print(key)"
   ]
  },
  {
   "cell_type": "code",
   "execution_count": 13,
   "metadata": {},
   "outputs": [
    {
     "name": "stdout",
     "output_type": "stream",
     "text": [
      "name Radhe Krishna\n",
      "male lead Sumedh Mudgalkar\n",
      "female lead Malika Singh\n",
      "total season 2\n",
      "rating 4.5\n",
      "ott hotstar\n"
     ]
    }
   ],
   "source": [
    "# to print key and value both using loop\n",
    "for k,v in show.items():\n",
    "    print(k,v)"
   ]
  },
  {
   "cell_type": "code",
   "execution_count": 11,
   "metadata": {},
   "outputs": [
    {
     "name": "stdout",
     "output_type": "stream",
     "text": [
      "Radhe Krishna\n",
      "Sumedh Mudgalkar\n",
      "Malika Singh\n",
      "2\n",
      "4.5\n",
      "hotstar\n"
     ]
    }
   ],
   "source": [
    "for v in show.values():\n",
    "    print(v)"
   ]
  },
  {
   "cell_type": "code",
   "execution_count": 14,
   "metadata": {},
   "outputs": [
    {
     "name": "stdout",
     "output_type": "stream",
     "text": [
      "dict_values(['Radhe Krishna', 'Sumedh Mudgalkar', 'Malika Singh', 2, 4.5, 'hotstar'])\n",
      "dict_keys(['name', 'male lead', 'female lead', 'total season', 'rating', 'ott'])\n",
      "dict_items([('name', 'Radhe Krishna'), ('male lead', 'Sumedh Mudgalkar'), ('female lead', 'Malika Singh'), ('total season', 2), ('rating', 4.5), ('ott', 'hotstar')])\n"
     ]
    }
   ],
   "source": [
    "print(show.values())\n",
    "print(show.keys())\n",
    "print(show.items())"
   ]
  },
  {
   "cell_type": "code",
   "execution_count": null,
   "metadata": {},
   "outputs": [],
   "source": []
  }
 ],
 "metadata": {
  "kernelspec": {
   "display_name": "base",
   "language": "python",
   "name": "python3"
  },
  "language_info": {
   "codemirror_mode": {
    "name": "ipython",
    "version": 3
   },
   "file_extension": ".py",
   "mimetype": "text/x-python",
   "name": "python",
   "nbconvert_exporter": "python",
   "pygments_lexer": "ipython3",
   "version": "3.9.12"
  },
  "orig_nbformat": 4
 },
 "nbformat": 4,
 "nbformat_minor": 2
}
