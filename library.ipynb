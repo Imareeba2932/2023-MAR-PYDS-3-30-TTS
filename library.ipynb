{
 "cells": [
  {
   "cell_type": "code",
   "execution_count": 11,
   "metadata": {},
   "outputs": [],
   "source": [
    "from math import sqrt, factorial"
   ]
  },
  {
   "cell_type": "code",
   "execution_count": 3,
   "metadata": {},
   "outputs": [
    {
     "name": "stdout",
     "output_type": "stream",
     "text": [
      "3.605551275463989\n",
      "3.141592653589793\n",
      "1307674368000\n",
      "2.0\n",
      "6.643856189774725\n",
      "6\n",
      "252\n"
     ]
    }
   ],
   "source": [
    "print(math.sqrt(13))\n",
    "print(math.pi)\n",
    "print(math.factorial(15))\n",
    "print(math.log(100, 10))\n",
    "print(math.log(100, 2))\n",
    "print(math.gcd(12, 18, 24))\n",
    "print(math.lcm(12,18,14))"
   ]
  },
  {
   "cell_type": "code",
   "execution_count": 4,
   "metadata": {},
   "outputs": [],
   "source": [
    "from random import random, randint, choice, shuffle"
   ]
  },
  {
   "cell_type": "code",
   "execution_count": 5,
   "metadata": {},
   "outputs": [
    {
     "name": "stdout",
     "output_type": "stream",
     "text": [
      "get a random number between 0 and 1: 0.48419841425091736\n",
      "get a random integer between 50 and 100: 74\n",
      "select a random item draw\n",
      "shuffle a list: ['Joe', 'Jill', 'Jack', 'Jane', 'John']\n"
     ]
    }
   ],
   "source": [
    "print('get a random number between 0 and 1:', random())\n",
    "print('get a random integer between 50 and 100:', randint(50, 100))\n",
    "print('select a random item',choice(['win', 'lose', 'draw']))\n",
    "names=['John', 'Jane', 'Jack', 'Jill', 'Joe']\n",
    "shuffle(names)\n",
    "print('shuffle a list:', names)"
   ]
  },
  {
   "cell_type": "code",
   "execution_count": 6,
   "metadata": {},
   "outputs": [],
   "source": [
    "from datetime import datetime as dt"
   ]
  },
  {
   "cell_type": "code",
   "execution_count": 7,
   "metadata": {},
   "outputs": [
    {
     "name": "stdout",
     "output_type": "stream",
     "text": [
      "current : 2023-05-09 16:18:54.603167\n",
      "current time : 16:18:54.603167\n",
      "current date : 2023-05-09\n",
      "timestamp : 1683629334.603167\n",
      "year : 2023\n",
      "month : 5\n",
      "day : 9\n"
     ]
    }
   ],
   "source": [
    "print('current :', dt.now())\n",
    "print('current time :', dt.now().time())\n",
    "print('current date :', dt.now().date())\n",
    "print('timestamp :', dt.now().timestamp()) # time after 1970 is called timestamp \n",
    "print('year :', dt.now().year)\n",
    "print('month :', dt.now().month)\n",
    "print('day :', dt.now().day)"
   ]
  },
  {
   "cell_type": "code",
   "execution_count": 12,
   "metadata": {},
   "outputs": [
    {
     "name": "stdout",
     "output_type": "stream",
     "text": [
      "formatted date 09/05/2023\n"
     ]
    }
   ],
   "source": [
    "date=dt.strftime(dt.now(), '%d/%m/%Y')\n",
    "print('formatted date', date)"
   ]
  },
  {
   "cell_type": "code",
   "execution_count": 14,
   "metadata": {},
   "outputs": [
    {
     "data": {
      "text/plain": [
       "'16:26:28'"
      ]
     },
     "execution_count": 14,
     "metadata": {},
     "output_type": "execute_result"
    }
   ],
   "source": [
    "dt.strftime(dt.now(), '%H:%M:%S')"
   ]
  },
  {
   "cell_type": "code",
   "execution_count": 15,
   "metadata": {},
   "outputs": [],
   "source": [
    "import os #know about folders and files"
   ]
  },
  {
   "cell_type": "code",
   "execution_count": 16,
   "metadata": {},
   "outputs": [
    {
     "name": "stdout",
     "output_type": "stream",
     "text": [
      "current folder c:\\Users\\LENOVO\\Documents\\PyDS\n"
     ]
    }
   ],
   "source": [
    "print('current folder',os.getcwd()) #get current working directory"
   ]
  },
  {
   "cell_type": "code",
   "execution_count": 18,
   "metadata": {},
   "outputs": [
    {
     "name": "stdout",
     "output_type": "stream",
     "text": [
      "['.git', 'basics.ipynb', 'classes.ipynb', 'conditions.ipynb', 'debug.log', 'dict.ipynb', 'functions.ipynb', 'indexandaclicing.ipynb', 'library.ipynb', 'loops.ipynb', 'lst.ipynb', 'string.ipynb', 't1.py', 't2.py', 't3.py']\n"
     ]
    }
   ],
   "source": [
    "files=os.listdir() #list all files and folders in current directory\n",
    "print(files)"
   ]
  },
  {
   "cell_type": "code",
   "execution_count": 23,
   "metadata": {},
   "outputs": [
    {
     "name": "stdout",
     "output_type": "stream",
     "text": [
      "['.git', '.gitignore', 'auth_app.py', 'auth_utils.py', 'database.db', 'main.py', 'naukri_com-job_sample.csv', 'project_orm.py', 'readme.md', 'requirements.txt', 'templates', 'visual.ipynb', '__pycache__']\n",
      "13\n"
     ]
    }
   ],
   "source": [
    "files=os.listdir(r\"C:\\Users\\LENOVO\\Documents\\Job-Trend-Analysis-Using-Naukri.in\")\n",
    "print(files)\n",
    "print(len(files))"
   ]
  },
  {
   "cell_type": "code",
   "execution_count": 24,
   "metadata": {},
   "outputs": [
    {
     "data": {
      "text/plain": [
       "<generator object _walk at 0x000002604EDE8820>"
      ]
     },
     "execution_count": 24,
     "metadata": {},
     "output_type": "execute_result"
    }
   ],
   "source": [
    "os.walk('C:') #walk through all folders and files in C drive"
   ]
  },
  {
   "cell_type": "code",
   "execution_count": 25,
   "metadata": {},
   "outputs": [
    {
     "name": "stdout",
     "output_type": "stream",
     "text": [
      "=> C:\\Users\\LENOVO\\Documents\\laptop\n",
      "📁 ['dataset', 'templates', '__pycache__']\n",
      "📄 ['.gitignore', 'app.py', 'database.py', 'database.sqlite', 'db_helper.py', 'form.html', 'laptop-price-prediction (1).ipynb', 'laptop_data.csv', 'logger.py', 'readme.md', 'requirements.txt', 'validators.py']\n",
      "---------------\n",
      "=> C:\\Users\\LENOVO\\Documents\\laptop\\dataset\n",
      "📁 []\n",
      "📄 ['Amazon_flipkartScrapper.txt.csv']\n",
      "---------------\n",
      "=> C:\\Users\\LENOVO\\Documents\\laptop\\templates\n",
      "📁 []\n",
      "📄 ['base.html', 'dashboard.html', 'footer.html', 'index.html', 'login_modal.html', 'navbar.html', 'notification.html', 'predict.html', 'profile_modal.html', 'register_modal.html']\n",
      "---------------\n",
      "=> C:\\Users\\LENOVO\\Documents\\laptop\\__pycache__\n",
      "📁 []\n",
      "📄 ['database.cpython-39.pyc', 'db_helper.cpython-39.pyc', 'logger.cpython-39.pyc', 'validators.cpython-39.pyc']\n",
      "---------------\n",
      "total files: 27\n"
     ]
    }
   ],
   "source": [
    "total_files=0\n",
    "for path, folders, files in os.walk(r\"C:\\Users\\LENOVO\\Documents\\laptop\"):\n",
    "    print('=>',path)\n",
    "    print('📁',folders)\n",
    "    print('📄',files)\n",
    "    print('-'*15)\n",
    "    total_files+=len(files)\n",
    "print('total files:', total_files)\n"
   ]
  },
  {
   "cell_type": "code",
   "execution_count": 26,
   "metadata": {},
   "outputs": [
    {
     "name": "stdout",
     "output_type": "stream",
     "text": [
      "file exists\n"
     ]
    }
   ],
   "source": [
    "files=r\"C:\\Users\\LENOVO\\Documents\\laptop\" #files exists  or not\n",
    "if os.path.exists(files):\n",
    "    print('file exists')"
   ]
  },
  {
   "cell_type": "code",
   "execution_count": 28,
   "metadata": {},
   "outputs": [
    {
     "name": "stdout",
     "output_type": "stream",
     "text": [
      "file exists\n",
      "size in bytes: 4096\n",
      "size in kilobytes: 4.0\n",
      "size in megabytes: 0.00390625\n",
      "size in gigabytes: 3.814697265625e-06\n",
      "size in terabytes: 3.725290298461914e-09\n",
      "size in petabytes: 3.637978807091713e-12\n",
      "size in exabytes: 3.552713678800501e-15\n",
      "size in zettabytes: 3.469446951953614e-18\n",
      "size in yottabytes: 3.3881317890172014e-21\n"
     ]
    }
   ],
   "source": [
    "file=r\"C:\\Users\\LENOVO\\Documents\\laptop\" #file exists or not and print its size in various format\n",
    "if os.path.exists(file):\n",
    "    print('file exists')\n",
    "    size=os.path.getsize(file)\n",
    "    print('size in bytes:', size)\n",
    "    print('size in kilobytes:', size/1024)\n",
    "    print('size in megabytes:', size/(1024*1024))\n",
    "    print('size in gigabytes:', size/(1024*1024*1024))\n",
    "    print('size in terabytes:', size/(1024*1024*1024*1024))\n",
    "    print('size in petabytes:', size/(1024*1024*1024*1024*1024))\n",
    "    print('size in exabytes:', size/(1024*1024*1024*1024*1024*1024))\n",
    "    print('size in zettabytes:', size/(1024*1024*1024*1024*1024*1024*1024))\n",
    "    print('size in yottabytes:', size/(1024*1024*1024*1024*1024*1024*1024*1024))"
   ]
  },
  {
   "cell_type": "code",
   "execution_count": null,
   "metadata": {},
   "outputs": [],
   "source": []
  }
 ],
 "metadata": {
  "kernelspec": {
   "display_name": "base",
   "language": "python",
   "name": "python3"
  },
  "language_info": {
   "codemirror_mode": {
    "name": "ipython",
    "version": 3
   },
   "file_extension": ".py",
   "mimetype": "text/x-python",
   "name": "python",
   "nbconvert_exporter": "python",
   "pygments_lexer": "ipython3",
   "version": "3.9.12"
  },
  "orig_nbformat": 4
 },
 "nbformat": 4,
 "nbformat_minor": 2
}
