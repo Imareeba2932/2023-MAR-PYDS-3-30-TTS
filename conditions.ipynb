{
 "cells": [
  {
   "cell_type": "code",
   "execution_count": 2,
   "metadata": {},
   "outputs": [
    {
     "name": "stdout",
     "output_type": "stream",
     "text": [
      "b is greater\n",
      "b is less than c\n"
     ]
    }
   ],
   "source": [
    "a=5\n",
    "b=10\n",
    "c=15\n",
    "if a>b:\n",
    "    print(\"a is greater\")    \n",
    "if a>c:\n",
    "    print(\"a is also greater than c\")\n",
    "if b>a:\n",
    "    print(\"b is greater\")\n",
    "if b<c:\n",
    "    print(\"b is less than c\")\n"
   ]
  },
  {
   "cell_type": "code",
   "execution_count": 3,
   "metadata": {},
   "outputs": [
    {
     "name": "stdout",
     "output_type": "stream",
     "text": [
      "i am taller\n"
     ]
    }
   ],
   "source": [
    "a=10\n",
    "b=15\n",
    "if a>b:\n",
    "    print(\"You are taller than a giraffe🦒\")\n",
    "else:\n",
    "    print(\"i am taller\")"
   ]
  },
  {
   "cell_type": "code",
   "execution_count": 5,
   "metadata": {},
   "outputs": [
    {
     "name": "stdout",
     "output_type": "stream",
     "text": [
      "b is greater\n"
     ]
    }
   ],
   "source": [
    "a=5\n",
    "b=10\n",
    "c=15\n",
    "if a>b:\n",
    "    print(\"a is greater\")    \n",
    "elif a>c:\n",
    "    print(\"a is also greater than c\")\n",
    "elif b>a:\n",
    "    print(\"b is greater\")\n",
    "elif b<c:\n",
    "    print(\"b is less than c\")\n",
    "elif c>a:\n",
    "    print('c is greater')\n",
    "else:\n",
    "    print(\"Number is out of range😒\")"
   ]
  },
  {
   "cell_type": "code",
   "execution_count": 6,
   "metadata": {},
   "outputs": [
    {
     "name": "stdout",
     "output_type": "stream",
     "text": [
      "Number is Positive\n"
     ]
    }
   ],
   "source": [
    "num=15\n",
    "if num>=0:\n",
    "    if num==0:\n",
    "        print(\"Number is Zero\")\n",
    "    else:\n",
    "        print(\"Number is Positive\")\n",
    "else:\n",
    "    print(\"Number is Negative\")"
   ]
  },
  {
   "cell_type": "code",
   "execution_count": null,
   "metadata": {},
   "outputs": [],
   "source": [
    "username=input('Enter your name')\n",
    "email=input('Enter your email')\n",
    "pwd=input('Enter new password')\n",
    "pwd2=input('confirm your password')\n",
    "\n",
    "if len(username)>=4 and len(username)<=15:\n",
    "    if'@' in email and email.islower() and len(email)>10:\n",
    "        if len(pwd)>=6 and pwd!=username:\n",
    "            if pwd==pwd2:\n",
    "                print(\"Hurray🤡\")\n",
    "            else:\n",
    "                print(\"passwords do not match🙃\")\n",
    "        else:\n",
    "            print(\"password is invalid🙃\")\n",
    "    else:\n",
    "        print(\"email is invalid🙃\")\n",
    "else:\n",
    "    print(\"username is invalid🙃\")"
   ]
  }
 ],
 "metadata": {
  "kernelspec": {
   "display_name": "base",
   "language": "python",
   "name": "python3"
  },
  "language_info": {
   "codemirror_mode": {
    "name": "ipython",
    "version": 3
   },
   "file_extension": ".py",
   "mimetype": "text/x-python",
   "name": "python",
   "nbconvert_exporter": "python",
   "pygments_lexer": "ipython3",
   "version": "3.9.12"
  },
  "orig_nbformat": 4
 },
 "nbformat": 4,
 "nbformat_minor": 2
}
