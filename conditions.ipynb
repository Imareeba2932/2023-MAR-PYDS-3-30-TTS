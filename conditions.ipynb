{
 "cells": [
  {
   "cell_type": "code",
   "execution_count": 2,
   "metadata": {},
   "outputs": [
    {
     "name": "stdout",
     "output_type": "stream",
     "text": [
      "b is greater\n",
      "b is less than c\n"
     ]
    }
   ],
   "source": [
    "a=5\n",
    "b=10\n",
    "c=15\n",
    "if a>b:\n",
    "    print(\"a is greater\")    \n",
    "if a>c:\n",
    "    print(\"a is also greater than c\")\n",
    "if b>a:\n",
    "    print(\"b is greater\")\n",
    "if b<c:\n",
    "    print(\"b is less than c\")\n"
   ]
  },
  {
   "cell_type": "code",
   "execution_count": 3,
   "metadata": {},
   "outputs": [
    {
     "name": "stdout",
     "output_type": "stream",
     "text": [
      "i am taller\n"
     ]
    }
   ],
   "source": [
    "a=10\n",
    "b=15\n",
    "if a>b:\n",
    "    print(\"You are taller than a giraffe🦒\")\n",
    "else:\n",
    "    print(\"i am taller\")"
   ]
  },
  {
   "cell_type": "code",
   "execution_count": 5,
   "metadata": {},
   "outputs": [
    {
     "name": "stdout",
     "output_type": "stream",
     "text": [
      "b is greater\n"
     ]
    }
   ],
   "source": [
    "a=5\n",
    "b=10\n",
    "c=15\n",
    "if a>b:\n",
    "    print(\"a is greater\")    \n",
    "elif a>c:\n",
    "    print(\"a is also greater than c\")\n",
    "elif b>a:\n",
    "    print(\"b is greater\")\n",
    "elif b<c:\n",
    "    print(\"b is less than c\")\n",
    "elif c>a:\n",
    "    print('c is greater')\n",
    "else:\n",
    "    print(\"Number is out of range😒\")"
   ]
  },
  {
   "cell_type": "code",
   "execution_count": 6,
   "metadata": {},
   "outputs": [
    {
     "name": "stdout",
     "output_type": "stream",
     "text": [
      "Number is Positive\n"
     ]
    }
   ],
   "source": [
    "num=15\n",
    "if num>=0:\n",
    "    if num==0:\n",
    "        print(\"Number is Zero\")\n",
    "    else:\n",
    "        print(\"Number is Positive\")\n",
    "else:\n",
    "    print(\"Number is Negative\")"
   ]
  },
  {
   "cell_type": "code",
   "execution_count": null,
   "metadata": {},
   "outputs": [],
   "source": [
    "username=input('Enter your name')\n",
    "email=input('Enter your email')\n",
    "pwd=input('Enter new password')\n",
    "pwd2=input('confirm your password')\n",
    "\n",
    "if len(username)>=4 and len(username)<=15:\n",
    "    if'@' in email and email.islower() and len(email)>10:\n",
    "        if len(pwd)>=6 and pwd!=username:\n",
    "            if pwd==pwd2:\n",
    "                print(\"Hurray🤡\")\n",
    "            else:\n",
    "                print(\"passwords do not match🙃\")\n",
    "        else:\n",
    "            print(\"password is invalid🙃\")\n",
    "    else:\n",
    "        print(\"email is invalid🙃\")\n",
    "else:\n",
    "    print(\"username is invalid🙃\")"
   ]
  },
  {
   "attachments": {},
   "cell_type": "markdown",
   "metadata": {},
   "source": [
    "wap to generate total salary of employee based on their designation\n",
    "if designation is manager then base salary is 50000\n",
    "if designation is developer then base salary is 40000\n",
    "if designation is tester then base salary is 30000\n",
    "apply 10% bonus for manager\n",
    "apply 20% bonus for developer\n",
    "apply 30% bonus for tester\n",
    "add hra of 20% of base salary\n"
   ]
  },
  {
   "cell_type": "code",
   "execution_count": 4,
   "metadata": {},
   "outputs": [
    {
     "name": "stdout",
     "output_type": "stream",
     "text": [
      "Good luck with that 👍\n"
     ]
    }
   ],
   "source": [
    "cpuModel=input('Enter your CPU model :')\n",
    "match cpuModel:\n",
    "    case \"celeron\":\n",
    "        print(\"Forget about it and play Minesweeper instead...\")\n",
    "    case \"core i3\":\n",
    "        print(\"Good luck with that 👍\")\n",
    "    case \"core i5\":\n",
    "        print(\"Yeah,you should be fine 😁\")\n",
    "    case \"core i7\":\n",
    "        print(\"Have Fun 🎉\")\n",
    "    case \"core i9\":\n",
    "        print(\"Our team designed nice loading screens..Too bad you won't see them...😒\")\n",
    "    case _:\n",
    "        print(\"Is that even a thing?\")\n",
    "\n",
    "        "
   ]
  },
  {
   "cell_type": "code",
   "execution_count": 2,
   "metadata": {},
   "outputs": [
    {
     "name": "stdout",
     "output_type": "stream",
     "text": [
      "total salary : 65000.0\n"
     ]
    }
   ],
   "source": [
    "designation = input(\"enter ur desgination \")\n",
    "match designation:\n",
    "    case 'manager':\n",
    "        bs = 50000\n",
    "        bns = bs * .1 # 10 %\n",
    "        hra = bs * .2 # 20 %\n",
    "        ts = bs + bns + hra\n",
    "        print(f'total salary : {ts}')\n",
    "    case 'developer':\n",
    "        bs = 40000\n",
    "        bns = bs * .1 # 10 %\n",
    "        hra = bs * .2 # 20 %\n",
    "        ts = bs + bns + hra\n",
    "        print(f'total salary : {ts}')\n",
    "    case 'tester':\n",
    "        bs = 50000\n",
    "        bns = bs * .1 # 10 %\n",
    "        hra = bs * .2 # 20 %\n",
    "        ts = bs + bns + hra\n",
    "        print(f'total salary : {ts}')\n",
    "    case _:\n",
    "        print(\"You are fired\")"
   ]
  },
  {
   "cell_type": "code",
   "execution_count": 3,
   "metadata": {},
   "outputs": [
    {
     "name": "stdout",
     "output_type": "stream",
     "text": [
      "Cool cool, you vijay\n"
     ]
    }
   ],
   "source": [
    "name = input('enter your name')\n",
    "match name:\n",
    "    case \"ajay\":\n",
    "        print(\"So you are ajay\")\n",
    "    case \"vijay\":\n",
    "        print(\"Cool cool, you vijay\")\n",
    "    case \"raju\":\n",
    "        print('to app ho raju!')\n",
    "    case _:\n",
    "        print(\"I dont care who you are\")\n",
    "    \n"
   ]
  },
  {
   "cell_type": "code",
   "execution_count": null,
   "metadata": {},
   "outputs": [],
   "source": []
  }
 ],
 "metadata": {
  "kernelspec": {
   "display_name": "base",
   "language": "python",
   "name": "python3"
  },
  "language_info": {
   "codemirror_mode": {
    "name": "ipython",
    "version": 3
   },
   "file_extension": ".py",
   "mimetype": "text/x-python",
   "name": "python",
   "nbconvert_exporter": "python",
   "pygments_lexer": "ipython3",
   "version": "3.10.10"
  },
  "orig_nbformat": 4
 },
 "nbformat": 4,
 "nbformat_minor": 2
}
