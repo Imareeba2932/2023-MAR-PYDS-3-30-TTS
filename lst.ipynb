{
 "cells": [
  {
   "cell_type": "code",
   "execution_count": 1,
   "metadata": {},
   "outputs": [
    {
     "name": "stdout",
     "output_type": "stream",
     "text": [
      "['chrome', 'firefox', 'notepad', 'paint', 'wordpad', 'excel', 'powerpoint', 'skype', 'vlc', 'winamp', 'spotify', 'photoshop', 'illustrator', 'indesign', 'dreamweaver', 'flash', 'acrobat', 'microsoft edge', 'microsoft teams', 'microsoft outlook', 'microsoft word', 'microsoft excel', 'microsoft powerpoint', 'microsoft access', 'microsoft publisher', 'microsoft visio', 'microsoft onenote', 'microsoft project', 'microsoft sharepoint designer', 'microsoft sharepoint workspace', 'microsoft sql server management studio', 'microsoft sql server management studio express', 'microsoft sql server management studio express with advanced services', 'microsoft sql server management studio express with advanced services', 'mi']\n"
     ]
    }
   ],
   "source": [
    "apps=['chrome','firefox','notepad','paint','wordpad','excel','powerpoint','skype','vlc','winamp','spotify','photoshop','illustrator','indesign','dreamweaver','flash','acrobat','microsoft edge','microsoft teams','microsoft outlook','microsoft word','microsoft excel','microsoft powerpoint','microsoft access','microsoft publisher','microsoft visio','microsoft onenote','microsoft project','microsoft sharepoint designer','microsoft sharepoint workspace','microsoft sql server management studio','microsoft sql server management studio express','microsoft sql server management studio express with advanced services','microsoft sql server management studio express with advanced services','mi']\n",
    "print(apps)"
   ]
  },
  {
   "cell_type": "code",
   "execution_count": null,
   "metadata": {},
   "outputs": [
    {
     "data": {
      "text/plain": [
       "list"
      ]
     },
     "execution_count": 2,
     "metadata": {},
     "output_type": "execute_result"
    }
   ],
   "source": [
    "type(apps)"
   ]
  },
  {
   "cell_type": "code",
   "execution_count": null,
   "metadata": {},
   "outputs": [
    {
     "name": "stdout",
     "output_type": "stream",
     "text": [
      "35\n"
     ]
    }
   ],
   "source": [
    "print(len(apps))"
   ]
  },
  {
   "cell_type": "code",
   "execution_count": null,
   "metadata": {},
   "outputs": [
    {
     "name": "stdout",
     "output_type": "stream",
     "text": [
      "['chrome', 'firefox', 'notepad', 'paint', 'wordpad', 'excel', 'powerpoint', 'skype', 'vlc', 'winamp', 'spotify', 'photoshop', 'illustrator', 'indesign', 'dreamweaver', 'flash', 'acrobat', 'microsoft edge', 'microsoft teams', 'microsoft outlook', 'microsoft word', 'microsoft excel', 'microsoft powerpoint', 'microsoft access', 'microsoft publisher', 'microsoft visio', 'microsoft onenote', 'microsoft project', 'microsoft sharepoint designer', 'microsoft sharepoint workspace', 'microsoft sql server management studio', 'microsoft sql server management studio express', 'microsoft sql server management studio express with advanced services', 'microsoft sql server management studio express with advanced services', 'mi', 'microsoft office', 'microsoft office']\n"
     ]
    }
   ],
   "source": [
    "apps.append('microsoft office')\n",
    "print(apps)"
   ]
  },
  {
   "cell_type": "code",
   "execution_count": null,
   "metadata": {},
   "outputs": [],
   "source": [
    "apps.insert(0,'microsoft office')"
   ]
  },
  {
   "cell_type": "code",
   "execution_count": 2,
   "metadata": {},
   "outputs": [
    {
     "name": "stdout",
     "output_type": "stream",
     "text": [
      "55\n"
     ]
    }
   ],
   "source": [
    "my_list = [1,2,3,4,5,6,7,8,9,10]\n",
    "list_sum=sum(my_list)\n",
    "print(list_sum)"
   ]
  },
  {
   "cell_type": "code",
   "execution_count": 3,
   "metadata": {},
   "outputs": [
    {
     "name": "stdout",
     "output_type": "stream",
     "text": [
      "10\n"
     ]
    }
   ],
   "source": [
    "list_max=max(my_list)\n",
    "print(list_max)"
   ]
  },
  {
   "cell_type": "code",
   "execution_count": 4,
   "metadata": {},
   "outputs": [
    {
     "name": "stdout",
     "output_type": "stream",
     "text": [
      "1\n"
     ]
    }
   ],
   "source": [
    "list_min=min(my_list)\n",
    "print(list_min)"
   ]
  },
  {
   "cell_type": "code",
   "execution_count": null,
   "metadata": {},
   "outputs": [],
   "source": []
  }
 ],
 "metadata": {
  "kernelspec": {
   "display_name": "base",
   "language": "python",
   "name": "python3"
  },
  "language_info": {
   "codemirror_mode": {
    "name": "ipython",
    "version": 3
   },
   "file_extension": ".py",
   "mimetype": "text/x-python",
   "name": "python",
   "nbconvert_exporter": "python",
   "pygments_lexer": "ipython3",
   "version": "3.9.12"
  },
  "orig_nbformat": 4
 },
 "nbformat": 4,
 "nbformat_minor": 2
}
